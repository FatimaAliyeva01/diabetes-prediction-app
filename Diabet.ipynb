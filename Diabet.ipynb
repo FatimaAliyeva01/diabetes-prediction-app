{
  "nbformat": 4,
  "nbformat_minor": 0,
  "metadata": {
    "colab": {
      "private_outputs": true,
      "provenance": []
    },
    "kernelspec": {
      "name": "python3",
      "display_name": "Python 3"
    },
    "language_info": {
      "name": "python"
    }
  },
  "cells": [
    {
      "cell_type": "code",
      "execution_count": null,
      "metadata": {
        "id": "mCG23XbclrcA"
      },
      "outputs": [],
      "source": [
        "import pandas as pd\n",
        "import numpy as np\n",
        "import matplotlib.pyplot as plt\n",
        "import seaborn as sns\n",
        "import warnings\n",
        "warnings.filterwarnings(\"ignore\")"
      ]
    },
    {
      "cell_type": "code",
      "source": [
        "data=pd.read_csv(\"/content/diabetes_prediction_dataset.csv\")"
      ],
      "metadata": {
        "id": "7vN1JYO-mBVf"
      },
      "execution_count": null,
      "outputs": []
    },
    {
      "cell_type": "code",
      "source": [
        "df=data.copy()\n",
        "df.head()"
      ],
      "metadata": {
        "id": "lJHTGm9imJAI"
      },
      "execution_count": null,
      "outputs": []
    },
    {
      "cell_type": "code",
      "source": [
        "df.info()"
      ],
      "metadata": {
        "id": "VWoNIINBmJ8u"
      },
      "execution_count": null,
      "outputs": []
    },
    {
      "cell_type": "code",
      "source": [
        "df.isnull().sum()"
      ],
      "metadata": {
        "id": "Roo9pNTZnEz4"
      },
      "execution_count": null,
      "outputs": []
    },
    {
      "cell_type": "code",
      "source": [
        "df.duplicated().sum()"
      ],
      "metadata": {
        "id": "JuZP_S1YnHGt"
      },
      "execution_count": null,
      "outputs": []
    },
    {
      "cell_type": "code",
      "source": [
        "# prompt: # Handle duplicates\n",
        "df.drop_duplicates(inplace=True)\n",
        "df.duplicated().sum()"
      ],
      "metadata": {
        "id": "4G_1tBP0oD0W"
      },
      "execution_count": null,
      "outputs": []
    },
    {
      "cell_type": "code",
      "source": [
        "# each column and count the number of distinct values\n",
        "for column in df.columns:\n",
        "  print(f\"Column: {column}, Distinct Values: {df[column].nunique()}\")"
      ],
      "metadata": {
        "id": "Dd_pWMT2ohr7"
      },
      "execution_count": null,
      "outputs": []
    },
    {
      "cell_type": "code",
      "source": [
        "df.describe().T"
      ],
      "metadata": {
        "id": "p5PqE284nBgT"
      },
      "execution_count": null,
      "outputs": []
    },
    {
      "cell_type": "code",
      "source": [
        "# Remove Unneccessary value [0.00195%]\n",
        "df = df[df['gender'] != 'Other']"
      ],
      "metadata": {
        "id": "9s4MYwgzxMp_"
      },
      "execution_count": null,
      "outputs": []
    },
    {
      "cell_type": "code",
      "source": [
        "sns.countplot(x = 'diabetes',data = df)"
      ],
      "metadata": {
        "id": "mPIieoTdnLSC"
      },
      "execution_count": null,
      "outputs": []
    },
    {
      "cell_type": "code",
      "source": [
        "import plotly.graph_objects as go\n",
        "\n",
        "# Create a countplot for the 'diabetes' column using plotly.graph_objects\n",
        "def create_diabetes_countplot(data):\n",
        "    # Count the occurrences of each class in the 'diabetes' column\n",
        "    counts = data['diabetes'].value_counts()\n",
        "\n",
        "    # Create a bar chart\n",
        "    fig = go.Figure(go.Bar(\n",
        "        x=counts.index,  # Classes: 0 or 1 for 'diabetes'\n",
        "        y=counts.values,  # Count of each class\n",
        "        marker=dict(color=['#1f77b4', '#ff7f0e']),  # Different colors for each bar\n",
        "        text=counts.values,  # Display counts on top of bars\n",
        "        textposition='auto'  # Position the text automatically\n",
        "    ))\n",
        "\n",
        "    # Update layout for better aesthetics\n",
        "    fig.update_layout(\n",
        "        title='Diabetes Count Distribution',\n",
        "        xaxis_title='Diabetes (0 = No, 1 = Yes)',\n",
        "        yaxis_title='Count',\n",
        "        template='plotly_white',\n",
        "        title_font=dict(size=20)\n",
        "    )\n",
        "\n",
        "    # Show the figure\n",
        "    fig.show()\n",
        "\n",
        "# Call the function with your dataframe df\n",
        "create_diabetes_countplot(df)\n"
      ],
      "metadata": {
        "id": "nTKv-r25vKOr"
      },
      "execution_count": null,
      "outputs": []
    },
    {
      "cell_type": "code",
      "source": [
        "df.hist(figsize = (10,10))\n",
        "plt.show()"
      ],
      "metadata": {
        "id": "Q6V_G1GDnOfU"
      },
      "execution_count": null,
      "outputs": []
    },
    {
      "cell_type": "code",
      "source": [
        "import plotly.graph_objects as go\n",
        "\n",
        "# Create a histogram for age distribution\n",
        "fig = go.Figure()\n",
        "\n",
        "# Add a histogram trace\n",
        "fig.add_trace(go.Histogram(\n",
        "    x=df['age'],\n",
        "    nbinsx=30,\n",
        "    marker=dict(color='#1f77b4'),  # A simple blue color\n",
        "    name='Age Distribution'\n",
        "))\n",
        "\n",
        "# Update layout for better aesthetics, including bar gap\n",
        "fig.update_layout(\n",
        "    title='Age Distribution',\n",
        "    xaxis_title='Age',\n",
        "    yaxis_title='Count',\n",
        "    template='plotly_white',  # Template for a clean look\n",
        "    title_font=dict(size=20),  # Reasonable title font size\n",
        "    bargap=0.2  # Adjust this value to increase/decrease space between bars\n",
        ")\n",
        "\n",
        "# Show the figure\n",
        "fig.show()"
      ],
      "metadata": {
        "id": "KLDELBOsswTS"
      },
      "execution_count": null,
      "outputs": []
    },
    {
      "cell_type": "code",
      "source": [
        "import plotly.graph_objects as go\n",
        "import numpy as np\n",
        "\n",
        "# Create a histogram for age distribution using plotly.graph_objects\n",
        "def create_age_distribution_plot(data):\n",
        "    fig = go.Figure()\n",
        "\n",
        "    # Add histogram for the 'age' variable, changed 'age' to 'Age'\n",
        "    fig.add_trace(go.Histogram(\n",
        "        x=df['age'], # Changed 'age' to 'Age'\n",
        "        nbinsx=30,\n",
        "        marker=dict(color='#1f77b4'),\n",
        "        name='Age Distribution',\n",
        "        opacity=0.7\n",
        "    ))\n",
        "\n",
        "    # Add KDE curve, changed 'age' to 'Age' everywhere\n",
        "    x_values = np.linspace(data['age'].min(), data['age'].max(), 100) # Changed 'age' to 'Age'\n",
        "    kde_y = np.exp(-0.5 * ((x_values - data['age'].mean()) / data['age'].std()) ** 2) / (data['age'].std() * np.sqrt(2 * np.pi)) # Changed 'age' to 'Age'\n",
        "\n",
        "    # Scale the KDE line to match the histogram, changed 'age' to 'Age'\n",
        "    fig.add_trace(go.Scatter(\n",
        "        x=x_values,\n",
        "        y=kde_y * (data['age'].count() * (max(data['age']) - min(data['age'])) / 30),  # Scale the KDE line and changed 'age' to 'Age'\n",
        "        mode='lines',\n",
        "        name='KDE',\n",
        "        line=dict(color='#ff7f0e', width=2)\n",
        "    ))\n",
        "\n",
        "    # Update layout for better aesthetics\n",
        "    fig.update_layout(\n",
        "        title='Age Distribution',\n",
        "        xaxis_title='Age',\n",
        "        yaxis_title='Count',\n",
        "        template='plotly_white',\n",
        "        title_font=dict(size=20),\n",
        "        bargap=0.2\n",
        "    )\n",
        "\n",
        "    # Show the figure\n",
        "    fig.show()\n",
        "\n",
        "# Call the function with your dataframe df\n",
        "create_age_distribution_plot(df)"
      ],
      "metadata": {
        "id": "9tj6z3N-t88t"
      },
      "execution_count": null,
      "outputs": []
    },
    {
      "cell_type": "code",
      "source": [
        "import plotly.graph_objects as go\n",
        "import numpy as np\n",
        "\n",
        "# Create a figure\n",
        "fig = go.Figure()\n",
        "\n",
        "# Add histogram for BMI\n",
        "fig.add_trace(go.Histogram(\n",
        "    x=df['bmi'],\n",
        "    nbinsx=30,  # Number of bins for the histogram\n",
        "    marker=dict(color='#1f77b4'),  # Color for histogram bars\n",
        "    name='BMI Distribution',\n",
        "    opacity=0.7\n",
        "))\n",
        "\n",
        "# Add a KDE curve\n",
        "# Generate x values for the KDE\n",
        "x_values = np.linspace(df['bmi'].min(), df['bmi'].max(), 100)\n",
        "kde_y = np.exp(-0.5 * ((x_values - df['bmi'].mean()) / df['bmi'].std()) ** 2) / (df['bmi'].std() * np.sqrt(2 * np.pi))\n",
        "\n",
        "# Add the KDE line\n",
        "fig.add_trace(go.Scatter(\n",
        "    x=x_values,\n",
        "    y=kde_y * (df['bmi'].count() * (max(df['bmi']) - min(df['bmi'])) / 30),  # Scale the KDE line\n",
        "    mode='lines',\n",
        "    name='KDE',\n",
        "    line=dict(color='#ff7f0e', width=2)  # Color and width for KDE line\n",
        "))\n",
        "\n",
        "# Update layout for better aesthetics\n",
        "fig.update_layout(\n",
        "    title='BMI Distribution',\n",
        "    xaxis_title='BMI',\n",
        "    yaxis_title='Count',\n",
        "    template='plotly_white',  # Template for a clean look\n",
        "    title_font=dict(size=20),  # Reasonable title font size\n",
        "    bargap=0.2  # Space between bars\n",
        ")\n",
        "\n",
        "# Show the figure\n",
        "fig.show()\n"
      ],
      "metadata": {
        "id": "hz-FY6O6s3qG"
      },
      "execution_count": null,
      "outputs": []
    },
    {
      "cell_type": "code",
      "source": [
        "sns.countplot(x='gender', data=df)\n",
        "plt.title('Gender Distribution')\n",
        "plt.show()"
      ],
      "metadata": {
        "id": "IKcwPV9GxDsM"
      },
      "execution_count": null,
      "outputs": []
    },
    {
      "cell_type": "code",
      "source": [
        "import seaborn as sns\n",
        "import matplotlib.pyplot as plt\n",
        "\n",
        "# Stil təyin edirik\n",
        "sns.set_style('whitegrid')  # Səliqəli fon\n",
        "\n",
        "# Estetik vizuallar üçün rəng palitrası\n",
        "palette = sns.color_palette(\"Set2\")\n",
        "\n",
        "# Binary dəyişənlərin countplot-u\n",
        "for col in ['hypertension', 'heart_disease', 'diabetes']:\n",
        "    plt.figure(figsize=(8, 4))  # Bütün qrafiklər üçün eyni ölçü\n",
        "    sns.countplot(x=col, data=df, palette=palette)\n",
        "    plt.title(f'{col.capitalize()} Distribution', fontsize=14, weight='bold')\n",
        "    plt.xlabel(col.capitalize(), fontsize=12)\n",
        "    plt.ylabel('Count', fontsize=12)\n",
        "    plt.xticks(fontsize=11)\n",
        "    plt.yticks(fontsize=11)\n",
        "    plt.show()\n"
      ],
      "metadata": {
        "id": "d4FbtRYpspuj"
      },
      "execution_count": null,
      "outputs": []
    },
    {
      "cell_type": "code",
      "source": [
        "import seaborn as sns\n",
        "import matplotlib.pyplot as plt\n",
        "\n",
        "# Stil təyin edirik\n",
        "sns.set_style('whitegrid')\n",
        "\n",
        "# Cəlbedici rəng palitrası\n",
        "palette = sns.color_palette(\"Set3\")\n",
        "\n",
        "# Smoking history üçün countplot\n",
        "plt.figure(figsize=(10, 6))  # Qrafik ölçüsü\n",
        "sns.countplot(x='smoking_history', data=df, palette=palette)\n",
        "\n",
        "# Başlıqlar və etiklər\n",
        "plt.title('Smoking History Distribution', fontsize=16, weight='bold')\n",
        "plt.xlabel('Smoking History', fontsize=14)\n",
        "plt.ylabel('Count', fontsize=14)\n",
        "plt.xticks(rotation=45, ha='right', fontsize=12)  # Fırlanma və hizalama\n",
        "plt.yticks(fontsize=12)\n",
        "\n",
        "# Plotları göstəririk\n",
        "plt.tight_layout()  # Elementlərin bir-birinə yaxınlaşmaması üçün\n",
        "plt.show()\n"
      ],
      "metadata": {
        "id": "ZUPyddxi1VdM"
      },
      "execution_count": null,
      "outputs": []
    },
    {
      "cell_type": "code",
      "source": [
        "df.info()"
      ],
      "metadata": {
        "id": "uYzisYS_Ij9N"
      },
      "execution_count": null,
      "outputs": []
    },
    {
      "cell_type": "code",
      "source": [
        "# prompt: # plot of gender vs diabetes\n",
        "\n",
        "# Plot of gender vs diabetes\n",
        "plt.figure(figsize=(8, 6))\n",
        "sns.countplot(x='gender', hue='diabetes', data=df)\n",
        "plt.title('Diabetes Distribution by Gender')\n",
        "plt.xlabel('Gender')\n",
        "plt.ylabel('Count')\n",
        "plt.legend(title='Diabetes')\n",
        "plt.show()"
      ],
      "metadata": {
        "id": "phTe1sve1lVH"
      },
      "execution_count": null,
      "outputs": []
    },
    {
      "cell_type": "code",
      "source": [],
      "metadata": {
        "id": "YN-DA-_qmqdn"
      },
      "execution_count": null,
      "outputs": []
    },
    {
      "cell_type": "code",
      "source": [
        "\n",
        "# Scatter plot of age vs. BMI colored by diabetes status\n",
        "plt.figure(figsize=(8, 6))\n",
        "sns.scatterplot(x='age', y='bmi', hue='diabetes', data=df, palette='viridis')\n",
        "plt.title('Age vs. BMI (colored by Diabetes)')\n",
        "plt.xlabel('Age')\n",
        "plt.ylabel('BMI')\n",
        "plt.show()\n",
        "\n",
        "\n",
        "# Box plot of blood glucose level by diabetes status\n",
        "plt.figure(figsize=(8, 6))\n",
        "sns.boxplot(x='diabetes', y='blood_glucose_level', data=df, palette='Set2')\n",
        "plt.title('Blood Glucose Level by Diabetes Status')\n",
        "plt.xlabel('Diabetes')\n",
        "plt.ylabel('Blood Glucose Level')\n",
        "plt.show()\n",
        "\n",
        "\n",
        "# Violin plot of HbA1c level by gender and diabetes status\n",
        "plt.figure(figsize=(10, 6))\n",
        "sns.violinplot(x='gender', y='HbA1c_level', hue='diabetes', data=df, palette='Set3', split=True)\n",
        "plt.title('HbA1c Level by Gender and Diabetes Status')\n",
        "plt.xlabel('Gender')\n",
        "plt.ylabel('HbA1c Level')\n",
        "plt.show()"
      ],
      "metadata": {
        "id": "Hbpxz2y8ypIO"
      },
      "execution_count": null,
      "outputs": []
    },
    {
      "cell_type": "code",
      "source": [
        "# prompt: Descriptive Statistics\n",
        "\n",
        "# Descriptive Statistics for Numerical Features\n",
        "numerical_features = ['age', 'bmi', 'HbA1c_level', 'blood_glucose_level']\n",
        "df[numerical_features].describe()\n",
        "\n",
        "# Skewness and Kurtosis\n",
        "print(\"Skewness:\")\n",
        "print(df[numerical_features].skew())\n",
        "print(\"\\nKurtosis:\")\n",
        "print(df[numerical_features].kurt())\n",
        "\n",
        "# Frequency distribution of categorical features\n",
        "for column in df.select_dtypes(include=['object']).columns:\n",
        "  print(f\"\\nFrequency Distribution of {column}:\")\n",
        "  print(df[column].value_counts())"
      ],
      "metadata": {
        "id": "ow2tdZBW0IgY"
      },
      "execution_count": null,
      "outputs": []
    },
    {
      "cell_type": "code",
      "source": [
        "df.info()"
      ],
      "metadata": {
        "id": "vnYOROEII7KQ"
      },
      "execution_count": null,
      "outputs": []
    },
    {
      "cell_type": "code",
      "source": [
        "import statsmodels.formula.api as sm\n",
        "import statsmodels.api as sma # Importing the statsmodels.api\n",
        "\n",
        "# Perform ANOVA for blood glucose level by diabetes status\n",
        "model = sm.ols('blood_glucose_level ~ diabetes', data=df).fit()\n",
        "anova_table = sma.stats.anova_lm(model, typ=2) # Using sma instead of sm to access stats\n",
        "print(anova_table)"
      ],
      "metadata": {
        "id": "4tzi1mjK0YwJ"
      },
      "execution_count": null,
      "outputs": []
    },
    {
      "cell_type": "code",
      "source": [],
      "metadata": {
        "id": "8ul2vZOP1Yj0"
      },
      "execution_count": null,
      "outputs": []
    },
    {
      "cell_type": "code",
      "source": [],
      "metadata": {
        "id": "EHDSrn172NCA"
      },
      "execution_count": null,
      "outputs": []
    },
    {
      "cell_type": "code",
      "source": [
        "# Assuming 'df' is your DataFrame\n",
        "\n",
        "# # Correlation Matrix Heatmap with Seaborn\n",
        "# plt.figure(figsize=(12, 10))\n",
        "# # Include numeric_only=True to select only numeric columns for correlation\n",
        "# correlation_matrix = df.corr(numeric_only=True)\n",
        "# sns.heatmap(correlation_matrix, annot=True, cmap='coolwarm', fmt=\".2f\", linewidths=.5)\n",
        "# plt.title('Correlation Matrix Heatmap', fontsize=16)\n",
        "# plt.show()\n",
        "\n",
        "# Correlation Matrix Heatmap with Plotly (More Interactive)\n",
        "# Assuming you have imported 'plotly.graph_objects as go'\n",
        "fig = go.Figure(data=go.Heatmap(\n",
        "                   z=correlation_matrix.values,\n",
        "                   x=correlation_matrix.columns,\n",
        "                   y=correlation_matrix.columns,\n",
        "                   colorscale='Viridis',  # Choose a suitable colorscale\n",
        "                   text=correlation_matrix.values,\n",
        "                   texttemplate=\"%{text:.2f}\",\n",
        "                   hoverinfo='x+y+z'))\n",
        "\n",
        "fig.update_layout(\n",
        "    title='Correlation Matrix Heatmap (Interactive)',\n",
        "    xaxis_showgrid=False,\n",
        "    yaxis_showgrid=False,\n",
        "    xaxis_zeroline=False,\n",
        "    yaxis_zeroline=False,\n",
        "    width=800,  # Adjust the width if needed\n",
        "    height=600  # Adjust the height if needed\n",
        ")\n",
        "\n",
        "fig.show()"
      ],
      "metadata": {
        "id": "P70plHYixIF9"
      },
      "execution_count": null,
      "outputs": []
    },
    {
      "cell_type": "code",
      "source": [],
      "metadata": {
        "id": "FuUqmDbr22-z"
      },
      "execution_count": null,
      "outputs": []
    },
    {
      "cell_type": "code",
      "source": [
        "# prompt: . Check for Outliers and Distribution of Numerical Variables\n",
        "\n",
        "# Identify numerical features\n",
        "numerical_features = ['age', 'bmi', 'HbA1c_level', 'blood_glucose_level']\n",
        "\n",
        "# Box plots to visualize outliers\n",
        "for feature in numerical_features:\n",
        "  plt.figure(figsize=(8, 6))\n",
        "  sns.boxplot(x=df[feature])\n",
        "  plt.title(f'Box Plot of {feature}')\n",
        "  plt.show()\n",
        "\n",
        "# Histogram and Kernel Density Estimation (KDE) plots for distribution\n",
        "for feature in numerical_features:\n",
        "  plt.figure(figsize=(8, 6))\n",
        "  sns.histplot(df[feature], kde=True)\n",
        "  plt.title(f'Distribution of {feature}')\n",
        "  plt.show()"
      ],
      "metadata": {
        "id": "XqSi87ZL24D1"
      },
      "execution_count": null,
      "outputs": []
    },
    {
      "cell_type": "code",
      "source": [
        "\n",
        "# Calculate IQR to identify outliers more precisely\n",
        "for feature in numerical_features:\n",
        "  Q1 = df[feature].quantile(0.25)\n",
        "  Q3 = df[feature].quantile(0.75)\n",
        "  IQR = Q3 - Q1\n",
        "  lower_bound = Q1 - 1.5 * IQR\n",
        "  upper_bound = Q3 + 1.5 * IQR\n",
        "  outliers = df[(df[feature] < lower_bound) | (df[feature] > upper_bound)]\n",
        "  print(f\"Outliers for {feature}:\")\n",
        "  print(outliers)\n"
      ],
      "metadata": {
        "id": "nl6GOWSr8y3_"
      },
      "execution_count": null,
      "outputs": []
    },
    {
      "cell_type": "code",
      "source": [
        "# Check for outliers using a boxplot\n",
        "plt.figure(figsize=(10, 6))\n",
        "sns.boxplot(data=df, palette='Set3')\n",
        "plt.title('Outlier Detection')\n",
        "plt.show()\n"
      ],
      "metadata": {
        "id": "NUJs-ftl9AC-"
      },
      "execution_count": null,
      "outputs": []
    },
    {
      "cell_type": "code",
      "source": [
        "import plotly.express as px\n",
        "import pandas as pd\n",
        "\n",
        "# Datasetin uzun formatda olmasını təmin edirik\n",
        "df_melt = df.melt(var_name='Columns', value_name='Values')\n",
        "\n",
        "# Bütün sütunlar üçün bir boxplot yaratmaq\n",
        "fig = px.box(df_melt, x='Columns', y='Values', title=\"Boxplot of All Columns\")\n",
        "fig.show()"
      ],
      "metadata": {
        "id": "QEDcpjNL9HVg"
      },
      "execution_count": null,
      "outputs": []
    },
    {
      "cell_type": "code",
      "source": [
        "# IQR hesablanması\n",
        "Q1 = df['blood_glucose_level'].quantile(0.25)\n",
        "Q3 = df['blood_glucose_level'].quantile(0.75)\n",
        "IQR = Q3 - Q1\n",
        "\n",
        "# Alt və üst limitlərin hesablanması\n",
        "lower_bound = Q1 - 1.5 * IQR\n",
        "upper_bound = Q3 + 1.5 * IQR\n",
        "\n",
        "# Outlier dəyərlərin tapılması\n",
        "outliers = df[(df['blood_glucose_level'] < lower_bound) | (df['blood_glucose_level'] > upper_bound)]\n",
        "\n",
        "print(f\"Outlier dəyərlər:\\n{outliers}\")"
      ],
      "metadata": {
        "id": "yxvSDzAv9beO"
      },
      "execution_count": null,
      "outputs": []
    },
    {
      "cell_type": "code",
      "source": [
        "median_glucose = df['blood_glucose_level'].median()\n",
        "df['blood_glucose_level'] = np.where((df['blood_glucose_level'] < lower_bound) | (df['blood_glucose_level'] > upper_bound), median_glucose, df['blood_glucose_level'])\n"
      ],
      "metadata": {
        "id": "bfb9iviQ-ivV"
      },
      "execution_count": null,
      "outputs": []
    },
    {
      "cell_type": "code",
      "source": [
        "df.info()"
      ],
      "metadata": {
        "id": "NOxq5kMeJkaX"
      },
      "execution_count": null,
      "outputs": []
    },
    {
      "cell_type": "code",
      "source": [
        "# Define a function to map the existing categories to new ones\n",
        "def recategorize_smoking(smoking_status):\n",
        "    if smoking_status in ['never', 'No Info']:\n",
        "        return 'non-smoker'\n",
        "    elif smoking_status == 'current':\n",
        "        return 'current'\n",
        "    elif smoking_status in ['ever', 'former', 'not current']:\n",
        "        return 'past_smoker'\n",
        "\n",
        "# Apply the function to the 'smoking_history' column\n",
        "df['smoking_history'] = df['smoking_history'].apply(recategorize_smoking)\n",
        "\n",
        "# Check the new value counts\n",
        "print(df['smoking_history'].value_counts())"
      ],
      "metadata": {
        "id": "YUZin9sbddFB"
      },
      "execution_count": null,
      "outputs": []
    },
    {
      "cell_type": "code",
      "source": [
        "def perform_one_hot_encoding(df, column_name):\n",
        "    # Perform one-hot encoding on the specified column\n",
        "    dummies = pd.get_dummies(df[column_name], prefix=column_name)\n",
        "\n",
        "    # Drop the original column and append the new dummy columns to the dataframe\n",
        "    df = pd.concat([df.drop(column_name, axis=1), dummies], axis=1)\n",
        "\n",
        "    return df\n",
        "\n",
        "# Perform one-hot encoding on the gender variable\n",
        "data = perform_one_hot_encoding(data, 'gender')\n",
        "\n",
        "# Perform one-hot encoding on the smoking history variable\n",
        "data = perform_one_hot_encoding(data, 'smoking_history')"
      ],
      "metadata": {
        "id": "ptYrHg9Gdj7a"
      },
      "execution_count": null,
      "outputs": []
    },
    {
      "cell_type": "code",
      "source": [
        "# prompt: 1. Class Imbalance and # Count plot for the 'diabetes' variable\n",
        "\n",
        "# Class Imbalance and Count Plot for the 'diabetes' variable\n",
        "diabetes_counts = df['diabetes'].value_counts()\n",
        "print(\"Diabetes Class Counts:\\n\", diabetes_counts)\n",
        "\n",
        "# Plotting the distribution of diabetes\n",
        "plt.figure(figsize=(8, 6))\n",
        "sns.countplot(x='diabetes', data=df)\n",
        "plt.title('Distribution of Diabetes')\n",
        "plt.xlabel('Diabetes (0 = No, 1 = Yes)')\n",
        "plt.ylabel('Count')\n",
        "plt.show()\n",
        "\n",
        "# Optionally, you can also calculate the percentage of each class\n",
        "diabetes_percentage = (diabetes_counts / len(df)) * 100\n",
        "print(\"\\nPercentage of Diabetes Classes:\\n\", diabetes_percentage)"
      ],
      "metadata": {
        "id": "_MiERCj8_45w"
      },
      "execution_count": null,
      "outputs": []
    },
    {
      "cell_type": "code",
      "source": [
        "# Import necessary libraries\n",
        "from sklearn.compose import ColumnTransformer\n",
        "from sklearn.preprocessing import StandardScaler, OneHotEncoder\n",
        "\n",
        "# Define preprocessor\n",
        "preprocessor = ColumnTransformer(\n",
        "    transformers=[\n",
        "        ('num', StandardScaler(), ['age', 'bmi', 'HbA1c_level', 'blood_glucose_level','hypertension','heart_disease']),\n",
        "        ('cat', OneHotEncoder(), ['gender','smoking_history'])\n",
        "    ])\n",
        "\n",
        "# Split data into features and target variable\n",
        "X = df.drop('diabetes', axis=1)\n",
        "y = df['diabetes']"
      ],
      "metadata": {
        "id": "WGYBHy59L2f4"
      },
      "execution_count": null,
      "outputs": []
    },
    {
      "cell_type": "code",
      "source": [
        "# Import necessary libraries\n",
        "from sklearn.compose import ColumnTransformer\n",
        "from sklearn.preprocessing import StandardScaler, OneHotEncoder\n",
        "from imblearn.pipeline import Pipeline as imbPipeline # Import imbPipeline from imblearn.pipeline\n",
        "from sklearn.ensemble import RandomForestClassifier\n",
        "\n",
        "# Define preprocessor\n",
        "preprocessor = ColumnTransformer(\n",
        "    transformers=[\n",
        "        ('num', StandardScaler(), ['age', 'bmi', 'HbA1c_level', 'blood_glucose_level','hypertension','heart_disease']),\n",
        "        ('cat', OneHotEncoder(), ['gender','smoking_history'])\n",
        "    ])\n",
        "\n",
        "# Create a pipeline that preprocesses the data, resamples data, and then trains a classifier\n",
        "clf = imbPipeline(steps=[('preprocessor', preprocessor),\n",
        "                      ('over', over),\n",
        "                      ('under', under),\n",
        "                      ('classifier', RandomForestClassifier())]) # Use the imported imbPipeline"
      ],
      "metadata": {
        "id": "gox9YVvc_kQs"
      },
      "execution_count": null,
      "outputs": []
    },
    {
      "cell_type": "code",
      "source": [
        "# prompt: # Define the hyperparameters and the values we want to test\n",
        "\n",
        "param_grid = {\n",
        "    'classifier__n_estimators': [50, 100, 200],\n",
        "    'classifier__max_depth': [None, 10, 20],\n",
        "    'classifier__min_samples_split': [2, 5, 10],\n",
        "    'classifier__min_samples_leaf': [1, 2, 4]\n",
        "}"
      ],
      "metadata": {
        "id": "EnPyW51deaZ6"
      },
      "execution_count": null,
      "outputs": []
    },
    {
      "cell_type": "code",
      "source": [
        "# Import necessary libraries\n",
        "from sklearn.compose import ColumnTransformer\n",
        "from sklearn.preprocessing import StandardScaler, OneHotEncoder\n",
        "from imblearn.pipeline import Pipeline as imbPipeline # Import imbPipeline from imblearn.pipeline\n",
        "from sklearn.ensemble import RandomForestClassifier\n",
        "from sklearn.model_selection import GridSearchCV # Import GridSearchCV\n",
        "\n",
        "# Create Grid Search object\n",
        "grid_search = GridSearchCV(clf, param_grid, cv=5)\n",
        "\n",
        "# Split data into train and test sets\n",
        "X_train, X_test, y_train, y_test = train_test_split(X, y, test_size=0.2, random_state=42)\n",
        "\n",
        "# Train the model\n",
        "grid_search.fit(X_train, y_train)\n",
        "\n",
        "# Print the best parameters\n",
        "print(\"Best Parameters: \", grid_search.best_params_)"
      ],
      "metadata": {
        "id": "NRPoSWDkeIX8"
      },
      "execution_count": null,
      "outputs": []
    },
    {
      "cell_type": "code",
      "source": [
        "# prompt: # Evaluate the model\n",
        "# andplot\n",
        "\n",
        "# Evaluate the model\n",
        "from sklearn.metrics import accuracy_score, precision_score, recall_score, f1_score, roc_auc_score, confusion_matrix, classification_report\n",
        "from sklearn.model_selection import train_test_split\n",
        "\n",
        "# Get the best estimator from the grid search\n",
        "best_estimator = grid_search.best_estimator_\n",
        "\n",
        "# Make predictions on the test set\n",
        "y_pred = best_estimator.predict(X_test)\n",
        "\n",
        "# Calculate evaluation metrics\n",
        "accuracy = accuracy_score(y_test, y_pred)\n",
        "precision = precision_score(y_test, y_pred)\n",
        "recall = recall_score(y_test, y_pred)\n",
        "f1 = f1_score(y_test, y_pred)\n",
        "roc_auc = roc_auc_score(y_test, y_pred)\n",
        "conf_matrix = confusion_matrix(y_test, y_pred)\n",
        "\n",
        "# Print the results\n",
        "print(\"Accuracy:\", accuracy)\n",
        "print(\"Precision:\", precision)\n",
        "print(\"Recall:\", recall)\n",
        "print(\"F1-score:\", f1)\n",
        "print(\"ROC AUC:\", roc_auc)\n",
        "print(\"\\nConfusion Matrix:\\n\", conf_matrix)\n",
        "print(\"\\nClassification Report:\\n\", classification_report(y_test, y_pred))"
      ],
      "metadata": {
        "id": "ACawGfM_eL5s"
      },
      "execution_count": null,
      "outputs": []
    },
    {
      "cell_type": "code",
      "source": [],
      "metadata": {
        "id": "uhwNVkrKrMMo"
      },
      "execution_count": null,
      "outputs": []
    },
    {
      "cell_type": "code",
      "source": [
        "# Plot the confusion matrix using seaborn\n",
        "plt.figure(figsize=(8, 6))\n",
        "sns.heatmap(conf_matrix, annot=True, fmt='d', cmap='Blues')\n",
        "plt.title('Confusion Matrix')\n",
        "plt.xlabel('Predicted Label')\n",
        "plt.ylabel('True Label')\n",
        "plt.show()"
      ],
      "metadata": {
        "id": "sbkh6EGhqGvI"
      },
      "execution_count": null,
      "outputs": []
    },
    {
      "cell_type": "code",
      "source": [
        "# Plot ROC curve\n",
        "from sklearn.metrics import roc_curve, auc\n",
        "y_probs = best_estimator.predict_proba(X_test)[:, 1]\n",
        "fpr, tpr, thresholds = roc_curve(y_test, y_probs)\n",
        "roc_auc = auc(fpr, tpr)\n",
        "\n",
        "plt.figure()\n",
        "plt.plot(fpr, tpr, color='darkorange', lw=2, label='ROC curve (area = %0.2f)' % roc_auc)\n",
        "plt.plot([0, 1], [0, 1], color='navy', lw=2, linestyle='--')\n",
        "plt.xlim([0.0, 1.0])\n",
        "plt.ylim([0.0, 1.05])\n",
        "plt.xlabel('False Positive Rate')\n",
        "plt.ylabel('True Positive Rate')\n",
        "plt.title('Receiver Operating Characteristic (ROC)')\n",
        "plt.legend(loc=\"lower right\")\n",
        "plt.show()"
      ],
      "metadata": {
        "id": "QTDjBt-Ep_wX"
      },
      "execution_count": null,
      "outputs": []
    }
  ]
}